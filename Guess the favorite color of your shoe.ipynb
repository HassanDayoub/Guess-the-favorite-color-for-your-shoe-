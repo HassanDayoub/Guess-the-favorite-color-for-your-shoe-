{
 "cells": [
  {
   "cell_type": "markdown",
   "metadata": {},
   "source": [
    "# بناء مصنف لتخمين لون الحذاء المفضل لدى الزبون"
   ]
  },
  {
   "cell_type": "markdown",
   "metadata": {},
   "source": [
    "### Guess the color of your favorite shoe"
   ]
  },
  {
   "cell_type": "markdown",
   "metadata": {},
   "source": [
    "# DTClassifier "
   ]
  },
  {
   "cell_type": "code",
   "execution_count": 2,
   "metadata": {},
   "outputs": [],
   "source": [
    "from sklearn import tree #تضمين موديل الشجرة\n",
    "import csv #من اجل التعامل مع ملفات اكسل\n",
    "from sklearn.model_selection import train_test_split"
   ]
  },
  {
   "cell_type": "code",
   "execution_count": 3,
   "metadata": {},
   "outputs": [
    {
     "name": "stdout",
     "output_type": "stream",
     "text": [
      "[['-1', '26', '155', '52', '36'], ['1', '24', '170', '70', '41'], ['-1', '22', '168', '68', '39'], ['-1', '23', '160', '56', '38'], ['1', '24', '185', '62', '43'], ['1', '24', '160', '55', '43'], ['-1', '22', '168', '57', '38'], ['1', '16', '170', '50', '41'], ['-1', '22', '160', '65', '39'], ['-1', '24', '159', '61', '39'], ['1', '26', '188', '70', '44'], ['1', '25', '173', '52', '40'], ['1', '22', '180', '72', '42'], ['1', '22', '183', '67', '44'], ['-1', '22', '168', '52', '37'], ['1', '23', '167', '70', '42'], ['1', '21', '164', '74', '42'], ['-1', '27', '168', '85', '39'], ['1', '22', '180', '65', '41'], ['-1', '24', '167', '49', '37'], ['-1', '23', '167', '47', '37'], ['1', '23', '178', '86', '43'], ['1', '24', '180', '70', '44'], ['1', '23', '169', '45', '40'], ['1', '23', '178', '65', '43'], ['1', '23', '175', '75', '43'], ['1', '23', '170', '80', '44'], ['-1', '21', '170', '57', '40'], ['-1', '60', '165', '77', '40'], ['1', '24', '180', '73', '43'], ['-1', '22', '156', '60', '37'], ['1', '22', '170', '82', '44'], ['-1', '28', '158', '54', '38'], ['1', '28', '170', '80', '43'], ['1', '20', '176', '67', '41'], ['1', '23', '183', '81', '44'], ['1', '22', '176', '70', '43'], ['1', '27', '180', '60', '42'], ['1', '26', '184', '75', '43'], ['1', '23', '172', '70', '43'], ['-1', '32', '165', '58', '39'], ['1', '24', '178', '75', '45'], ['-1', '23', '157', '43', '36'], ['1', '23', '170', '60', '41'], ['1', '15', '170', '81.5', '44'], ['1', '23', '170', '50', '42'], ['1', '25', '168', '73', '41'], ['-1', '23', '157', '64', '38'], ['-1', '24', '163', '65', '38'], ['1', '24', '182', '100', '42'], ['-1', '23', '163', '58', '37'], ['-1', '23', '163.5', '60', '39'], ['-1', '23', '169', '63', '38'], ['-1', '24', '158', '43', '36'], ['-1', '25', '164', '53', '37'], ['1', '20', '182', '82', '45'], ['1', '23', '175', '75', '42'], ['1', '26', '180', '80', '45'], ['1', '25', '179', '86', '43'], ['1', '23', '177', '71', '43'], ['1', '23', '180', '55', '42'], ['1', '26', '185', '90', '45'], ['1', '24', '181', '87', '43'], ['-1', '22', '160', '55', '37'], ['-1', '23', '170', '50', '38'], ['1', '23', '190', '100', '47'], ['1', '25', '170', '73', '42'], ['1', '24', '179', '73', '42'], ['1', '24', '182', '67', '43'], ['1', '24', '176', '65', '44'], ['1', '24', '185', '72', '43'], ['1', '25', '169', '75', '39'], ['1', '18', '189', '55', '45'], ['-1', '24', '156', '49', '36'], ['-1', '23', '160', '53', '37']]\n",
      "['White', 'Black', 'White', 'Black', 'Black', 'Black', 'Black', 'White', 'Black', 'White', 'Black', 'Black', 'White', 'White', 'White', 'White', 'Black', 'Black', 'Black', 'Black', 'White', 'Black', 'Black', 'Black', 'Black', 'Black', 'Black', 'Black', 'Black', 'Black', 'White', 'Black', 'Black', 'Black', 'Black', 'Black', 'Black', 'White', 'Black', 'Black', 'Black', 'Black', 'White', 'Black', 'Black', 'White', 'Black', 'Black', 'White', 'Black', 'White', 'Black', 'White', 'White', 'Black', 'Black', 'Black', 'Black', 'Black', 'Black', 'Black', 'Black', 'Black', 'White', 'White', 'Black', 'Black', 'Black', 'Black', 'Black', 'Black', 'Black', 'Black', 'White', 'White']\n"
     ]
    }
   ],
   "source": [
    "with open('‏Data Set With Zero and one NOT Full.csv') as csvfileFull:\n",
    "    readCSVFull = csv.reader(csvfileFull,delimiter=',') \n",
    "    xBW=[]\n",
    "    x_row =[]\n",
    "    yBW=[]\n",
    "    yNumeric=[]\n",
    "    for ele in  readCSVFull:\n",
    "        for i in range(1,6):\n",
    "            x1 = ele[i]\n",
    "            x_row.append(x1)\n",
    "        xBW.append(x_row)\n",
    "        x_row = []\n",
    "        yy = ele[6]\n",
    "        yBW.append(yy)\n",
    "        if (yy=='Femal'):\n",
    "            yyNumeric=1\n",
    "        else:\n",
    "            yyNumeric=0\n",
    "        yNumeric.append(yyNumeric)\n",
    "print(xBW)\n",
    "print(yBW)"
   ]
  },
  {
   "cell_type": "code",
   "execution_count": 4,
   "metadata": {},
   "outputs": [],
   "source": [
    "x_trainBW, x_testBW, y_trainBW, y_testBW = train_test_split(xBW, yBW, test_size=0.3)"
   ]
  },
  {
   "cell_type": "code",
   "execution_count": 5,
   "metadata": {},
   "outputs": [
    {
     "name": "stdout",
     "output_type": "stream",
     "text": [
      "[['1', '24', '185', '72', '43'], ['1', '15', '170', '81.5', '44'], ['1', '25', '179', '86', '43'], ['-1', '23', '163', '58', '37'], ['1', '20', '182', '82', '45'], ['1', '24', '182', '100', '42'], ['1', '26', '184', '75', '43'], ['-1', '27', '168', '85', '39'], ['1', '23', '170', '80', '44'], ['1', '23', '172', '70', '43'], ['-1', '24', '156', '49', '36'], ['-1', '28', '158', '54', '38'], ['1', '21', '164', '74', '42'], ['1', '25', '170', '73', '42'], ['-1', '24', '167', '49', '37'], ['-1', '23', '160', '56', '38'], ['1', '24', '178', '75', '45'], ['-1', '22', '160', '65', '39'], ['1', '24', '185', '62', '43'], ['-1', '22', '156', '60', '37'], ['1', '24', '180', '70', '44'], ['1', '23', '175', '75', '43'], ['1', '22', '183', '67', '44'], ['1', '27', '180', '60', '42'], ['-1', '21', '170', '57', '40'], ['1', '23', '175', '75', '42'], ['1', '24', '170', '70', '41'], ['1', '24', '181', '87', '43'], ['-1', '22', '168', '52', '37'], ['-1', '24', '159', '61', '39'], ['1', '26', '188', '70', '44'], ['1', '23', '183', '81', '44'], ['1', '20', '176', '67', '41'], ['-1', '22', '168', '57', '38'], ['-1', '23', '160', '53', '37'], ['1', '23', '170', '50', '42'], ['-1', '60', '165', '77', '40'], ['-1', '23', '170', '50', '38'], ['1', '23', '169', '45', '40'], ['1', '22', '180', '65', '41'], ['1', '22', '176', '70', '43'], ['1', '28', '170', '80', '43'], ['1', '16', '170', '50', '41'], ['1', '25', '173', '52', '40'], ['-1', '26', '155', '52', '36'], ['1', '26', '180', '80', '45'], ['-1', '23', '167', '47', '37'], ['1', '23', '177', '71', '43'], ['1', '24', '160', '55', '43'], ['1', '18', '189', '55', '45'], ['1', '25', '168', '73', '41'], ['-1', '23', '157', '64', '38']]\n",
      "\n",
      "[['-1', '23', '163.5', '60', '39'], ['-1', '23', '169', '63', '38'], ['1', '24', '182', '67', '43'], ['-1', '22', '160', '55', '37'], ['1', '24', '176', '65', '44'], ['-1', '25', '164', '53', '37'], ['1', '22', '180', '72', '42'], ['1', '24', '180', '73', '43'], ['1', '23', '180', '55', '42'], ['-1', '23', '157', '43', '36'], ['1', '24', '179', '73', '42'], ['1', '23', '178', '86', '43'], ['-1', '24', '163', '65', '38'], ['1', '23', '178', '65', '43'], ['-1', '32', '165', '58', '39'], ['1', '25', '169', '75', '39'], ['1', '23', '167', '70', '42'], ['1', '23', '170', '60', '41'], ['-1', '24', '158', '43', '36'], ['1', '23', '190', '100', '47'], ['1', '26', '185', '90', '45'], ['-1', '22', '168', '68', '39'], ['1', '22', '170', '82', '44']]\n",
      "\n",
      "['Black', 'Black', 'Black', 'White', 'Black', 'Black', 'Black', 'Black', 'Black', 'Black', 'White', 'Black', 'Black', 'Black', 'Black', 'Black', 'Black', 'Black', 'Black', 'White', 'Black', 'Black', 'White', 'White', 'Black', 'Black', 'Black', 'Black', 'White', 'White', 'Black', 'Black', 'Black', 'Black', 'White', 'White', 'Black', 'White', 'Black', 'Black', 'Black', 'Black', 'White', 'Black', 'White', 'Black', 'White', 'Black', 'Black', 'Black', 'Black', 'Black']\n",
      "\n",
      "['Black', 'White', 'Black', 'White', 'Black', 'Black', 'White', 'Black', 'Black', 'White', 'Black', 'Black', 'White', 'Black', 'Black', 'Black', 'White', 'Black', 'White', 'Black', 'Black', 'White', 'Black']\n"
     ]
    }
   ],
   "source": [
    "print(x_trainBW)\n",
    "print()\n",
    "print( x_testBW )\n",
    "print()\n",
    "print( y_trainBW )\n",
    "print()\n",
    "print( y_testBW )\n",
    "#print(yNumeric)"
   ]
  },
  {
   "cell_type": "code",
   "execution_count": 15,
   "metadata": {},
   "outputs": [],
   "source": [
    "#تابع التقييم للمصنف\n",
    "#Evaluation Function for DT\n",
    "def _eval(y_test,prediction):\n",
    "    count = 0\n",
    "    a = len(y_test)\n",
    "    output = []\n",
    "    target = []\n",
    "    for i in prediction:\n",
    "         output.append(i)\n",
    "    for i in y_test:\n",
    "         target.append(i)\n",
    "    for i in range(0,a):\n",
    "         if output[i] != target[i]:\n",
    "                count+=1\n",
    "    error_rate = count/a\n",
    "    accuracy = 1 - error_rate\n",
    "    print (\"error_rate = \" , error_rate*100)\n",
    "    print (\"accuracy = \" , accuracy*100)\n"
   ]
  },
  {
   "cell_type": "markdown",
   "metadata": {},
   "source": [
    "# DTClassifier for BW"
   ]
  },
  {
   "cell_type": "code",
   "execution_count": 6,
   "metadata": {},
   "outputs": [],
   "source": [
    "DTclfBW = tree.DecisionTreeClassifier()"
   ]
  },
  {
   "cell_type": "code",
   "execution_count": 7,
   "metadata": {},
   "outputs": [],
   "source": [
    "DTclfBW = DTclfBW.fit(x_trainBW,y_trainBW)"
   ]
  },
  {
   "cell_type": "code",
   "execution_count": 16,
   "metadata": {},
   "outputs": [
    {
     "name": "stdout",
     "output_type": "stream",
     "text": [
      "['White' 'Black' 'Black' 'White' 'White' 'White' 'Black' 'Black' 'Black'\n",
      " 'White' 'Black' 'Black' 'Black' 'Black' 'Black' 'Black' 'Black' 'White'\n",
      " 'White' 'Black' 'Black' 'Black' 'Black']\n"
     ]
    }
   ],
   "source": [
    "predictionDTBW = DTclfBW.predict(x_testBW)\n",
    "print(predictionDTBW)"
   ]
  },
  {
   "cell_type": "code",
   "execution_count": 18,
   "metadata": {},
   "outputs": [
    {
     "name": "stdout",
     "output_type": "stream",
     "text": [
      "error_rate =  39.130434782608695\n",
      "accuracy =  60.86956521739131\n"
     ]
    }
   ],
   "source": [
    "#Evaluation Function for DTBW\n",
    "_eval(y_testBW,predictionDTBW)\n"
   ]
  },
  {
   "cell_type": "markdown",
   "metadata": {},
   "source": [
    "# Randomorest For BW"
   ]
  },
  {
   "cell_type": "code",
   "execution_count": 19,
   "metadata": {},
   "outputs": [
    {
     "name": "stdout",
     "output_type": "stream",
     "text": [
      "['Black' 'Black' 'Black' 'White' 'Black' 'White' 'Black' 'Black' 'Black'\n",
      " 'White' 'Black' 'Black' 'Black' 'Black' 'Black' 'Black' 'Black' 'Black'\n",
      " 'White' 'Black' 'Black' 'Black' 'Black']\n"
     ]
    }
   ],
   "source": [
    "from sklearn.ensemble import RandomForestClassifier\n",
    "RFclfBW = RandomForestClassifier(max_depth=2, random_state=0)\n",
    "RFclfBW.fit(x_trainBW,y_trainBW)\n",
    "predictionRFBW = RFclfBW.predict(x_testBW)\n",
    "print(predictionRFBW)\n"
   ]
  },
  {
   "cell_type": "code",
   "execution_count": 22,
   "metadata": {},
   "outputs": [
    {
     "name": "stdout",
     "output_type": "stream",
     "text": [
      "error_rate =  26.08695652173913\n",
      "accuracy =  73.91304347826086\n"
     ]
    }
   ],
   "source": [
    "#Evaluation Function for Random Forest \n",
    "_eval(y_testBW,predictionRFBW)\n"
   ]
  },
  {
   "cell_type": "markdown",
   "metadata": {},
   "source": [
    "# SVM For BW"
   ]
  },
  {
   "cell_type": "code",
   "execution_count": 21,
   "metadata": {},
   "outputs": [
    {
     "data": {
      "text/plain": [
       "SVC(C=1.0, cache_size=200, class_weight=None, coef0=0.0,\n",
       "  decision_function_shape='ovr', degree=3, gamma='auto', kernel='rbf',\n",
       "  max_iter=-1, probability=False, random_state=None, shrinking=True,\n",
       "  tol=0.001, verbose=False)"
      ]
     },
     "execution_count": 21,
     "metadata": {},
     "output_type": "execute_result"
    }
   ],
   "source": [
    "from sklearn import svm\n",
    "SVMclfBW = svm.SVC()\n",
    "SVMclfBW.fit(x_trainBW,y_trainBW)"
   ]
  },
  {
   "cell_type": "code",
   "execution_count": 13,
   "metadata": {},
   "outputs": [
    {
     "name": "stdout",
     "output_type": "stream",
     "text": [
      "['Black' 'Black' 'Black' 'Black' 'Black' 'Black' 'Black' 'Black' 'Black'\n",
      " 'Black' 'Black' 'Black' 'Black' 'Black' 'Black' 'Black' 'Black' 'Black'\n",
      " 'Black' 'Black' 'Black' 'Black' 'Black']\n"
     ]
    }
   ],
   "source": [
    "SVMpredictionBW = SVMclfBW.predict(x_testBW)\n",
    "print(SVMpredictionBW)"
   ]
  },
  {
   "cell_type": "code",
   "execution_count": 24,
   "metadata": {},
   "outputs": [
    {
     "name": "stdout",
     "output_type": "stream",
     "text": [
      "error_rate =  34.78260869565217\n",
      "accuracy =  65.21739130434783\n"
     ]
    }
   ],
   "source": [
    "#Evaluation Function for SVM\n",
    "_eval(y_testBW,SVMpredictionBW)\n"
   ]
  },
  {
   "cell_type": "code",
   "execution_count": null,
   "metadata": {},
   "outputs": [],
   "source": []
  }
 ],
 "metadata": {
  "kernelspec": {
   "display_name": "Python 3",
   "language": "python",
   "name": "python3"
  },
  "language_info": {
   "codemirror_mode": {
    "name": "ipython",
    "version": 3
   },
   "file_extension": ".py",
   "mimetype": "text/x-python",
   "name": "python",
   "nbconvert_exporter": "python",
   "pygments_lexer": "ipython3",
   "version": "3.6.4"
  }
 },
 "nbformat": 4,
 "nbformat_minor": 2
}
